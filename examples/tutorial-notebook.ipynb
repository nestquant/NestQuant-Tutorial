{
 "cells": [
  {
   "cell_type": "code",
   "execution_count": 1,
   "metadata": {},
   "outputs": [],
   "source": [
    "import os\n",
    "import sys\n",
    "sys.path.insert(0, os.path.join(os.getcwd(), '..'))\n",
    "\n",
    "from dotenv import load_dotenv, find_dotenv\n",
    "load_dotenv(find_dotenv())\n",
    "\n",
    "from src.crawl import Crawler\n",
    "\n",
    "API_KEY = \"\" # Put your API key here\n",
    "\n",
    "crawler = Crawler(api_key=API_KEY)"
   ]
  },
  {
   "cell_type": "markdown",
   "metadata": {},
   "source": [
    "## Get data"
   ]
  },
  {
   "cell_type": "markdown",
   "metadata": {},
   "source": [
    "### Get all categories and metrics"
   ]
  },
  {
   "cell_type": "code",
   "execution_count": 2,
   "metadata": {},
   "outputs": [
    {
     "name": "stdout",
     "output_type": "stream",
     "text": [
      "There are 5 categories in total\n",
      "['Tournament', 'Blockchain', 'Stocks', 'Forex', 'Economy']\n",
      "There are 1 metric(s) in subcategory Return And Risk of Tournament category\n",
      "There are 1 metric(s) in subcategory CEX of Blockchain category\n",
      "There are 1 metric(s) in subcategory CEX of Blockchain category\n",
      "There are 2 metric(s) in subcategory CEX of Blockchain category\n",
      "There are 12 metric(s) in subcategory Stocks at exchange of Stocks category\n",
      "There are 14 metric(s) in subcategory ETF & Indices of Stocks category\n",
      "There are 23 metric(s) in subcategory ETF & Indices of Stocks category\n",
      "There are 21 metric(s) in subcategory ETF & Indices of Stocks category\n",
      "There are 22 metric(s) in subcategory ETF & Indices of Stocks category\n",
      "There are 20 metric(s) in subcategory Raw currency pairs of Forex category\n",
      "There are 51 metric(s) in subcategory FRED of Economy category\n",
      "There are 31 metric(s) in subcategory FRED of Economy category\n",
      "There are 17 metric(s) in subcategory FRED of Economy category\n"
     ]
    }
   ],
   "source": [
    "# Get all categories and metrics\n",
    "all_categories_and_metrics = crawler.get_all_metrics()\n",
    "categories = list(all_categories_and_metrics.keys())\n",
    "print(\"There are %d categories in total\" % len(categories))\n",
    "\n",
    "print(categories)\n",
    "for category in categories:\n",
    "    for sub_category in all_categories_and_metrics[category]:\n",
    "        for sub_sub_category in all_categories_and_metrics[category][sub_category]:\n",
    "            print(\"There are %d metric(s) in subcategory %s of %s category\" % (len(\n",
    "                all_categories_and_metrics[category][sub_category][sub_sub_category]), sub_category, category))"
   ]
  },
  {
   "cell_type": "markdown",
   "metadata": {},
   "source": [
    "Example of supported metrics in Forex category"
   ]
  },
  {
   "cell_type": "code",
   "execution_count": 3,
   "metadata": {},
   "outputs": [
    {
     "name": "stdout",
     "output_type": "stream",
     "text": [
      "Some metrics in Forex category:\n"
     ]
    },
    {
     "data": {
      "text/plain": [
       "{'Raw currency pairs': {'Raw currency pairs': [{'id': 'eurusd',\n",
       "    'name': 'EURUSD'},\n",
       "   {'id': 'usdcad', 'name': 'USDCAD'},\n",
       "   {'id': 'usdchf', 'name': 'USDCHF'},\n",
       "   {'id': 'gbpusd', 'name': 'GBPUSD'},\n",
       "   {'id': 'nzdusd', 'name': 'NZDUSD'},\n",
       "   {'id': 'audusd', 'name': 'AUDUSD'},\n",
       "   {'id': 'usdjpy', 'name': 'USDJPY'},\n",
       "   {'id': 'eurcad', 'name': 'EURCAD'},\n",
       "   {'id': 'euraud', 'name': 'EURAUD'},\n",
       "   {'id': 'eurjpy', 'name': 'EURJPY'},\n",
       "   {'id': 'eurchf', 'name': 'EURCHF'},\n",
       "   {'id': 'eurgbp', 'name': 'EURGBP'},\n",
       "   {'id': 'audcad', 'name': 'AUDCAD'},\n",
       "   {'id': 'gbpchf', 'name': 'GBPCHF'},\n",
       "   {'id': 'gbpjpy', 'name': 'GBPJPY'},\n",
       "   {'id': 'chfjpy', 'name': 'CHFJPY'},\n",
       "   {'id': 'audjpy', 'name': 'AUDJPY'},\n",
       "   {'id': 'audnzd', 'name': 'AUDNZD'},\n",
       "   {'id': 'xptusd', 'name': 'XPTUSD'},\n",
       "   {'id': 'xpdusd', 'name': 'XPDUSD'}]}}"
      ]
     },
     "execution_count": 3,
     "metadata": {},
     "output_type": "execute_result"
    }
   ],
   "source": [
    "print(\"Some metrics in Forex category:\")\n",
    "all_categories_and_metrics['Forex']"
   ]
  },
  {
   "cell_type": "markdown",
   "metadata": {},
   "source": [
    "### Download data"
   ]
  },
  {
   "cell_type": "code",
   "execution_count": 4,
   "metadata": {},
   "outputs": [
    {
     "name": "stdout",
     "output_type": "stream",
     "text": [
      "Folder './data/usd_price' already exists\n",
      "Lastest data:          OPEN_TIME      OPEN     HIGH       LOW     CLOSE\n",
      "0   1703768400000  42796.50  42998.0  42596.36  42799.59\n",
      "1   1703772000000  42802.57  42893.0  42460.04  42671.80\n",
      "2   1703775600000  42661.70  42775.0  42407.53  42451.96\n",
      "3   1703779200000  42457.43  42628.0  42265.08  42461.38\n",
      "4   1703782800000  42461.38  42704.0  42443.90  42560.70\n",
      "5   1703786400000  42560.80  42701.0  42382.39  42484.59\n",
      "6   1703790000000  42486.51  42806.0  42458.69  42613.77\n",
      "7   1703793600000  42646.80  42671.0  42370.05  42515.29\n",
      "8   1703797200000  42513.64  42649.0  42350.00  42464.89\n",
      "9   1703800800000  42474.30  42789.2  42388.87  42655.00\n",
      "10  1703804400000  42656.16  42892.8  42546.00  42592.73\n",
      "11  1703808000000  42581.23  42739.9  42396.58  42434.92\n",
      "12  1703811600000  42433.28  42585.0  42135.74  42375.20\n",
      "13  1703815200000  42346.00  42649.0  42277.09  42602.30\n",
      "14  1703818800000  42582.31  42870.0  42458.10  42708.15\n",
      "15  1703822400000  42720.20  42828.0  42605.00  42669.44\n",
      "16  1703826000000  42693.70  42756.0  42510.98  42692.06\n",
      "17  1703829600000  42696.80  42752.0  42509.20  42536.97\n",
      "18  1703833200000  42569.20  42633.0  42245.79  42309.15\n",
      "19  1703836800000  42349.00  42574.0  42297.66  42489.30\n",
      "20  1703840400000  42471.60  42734.0  42422.20  42672.32\n",
      "21  1703844000000  42667.56  42869.0  42629.40  42715.92\n",
      "22  1703847600000  42684.00  42994.0  42680.30  42896.87\n",
      "23  1703851200000  42951.00  42994.0  42755.80  42841.07\n"
     ]
    }
   ],
   "source": [
    "# Historical data (all)\n",
    "crawler.download_historical_data(metric_id=\"usd_price\", resolution=\"1d\", symbol=\"BTC\", location='./data')\n",
    "\n",
    "# Latest data (last 24 hours)\n",
    "print(\"Lastest data: \", crawler.get_lastest_data(metric_id=\"usd_price\", resolution=\"1h\", symbol=\"BTC\"))"
   ]
  },
  {
   "cell_type": "markdown",
   "metadata": {},
   "source": [
    "## Submit model"
   ]
  },
  {
   "cell_type": "code",
   "execution_count": 5,
   "metadata": {},
   "outputs": [],
   "source": [
    "import time\n",
    "from submit import Submission\n",
    "\n",
    "s = Submission(tournament_search_id='return_and_risk_tournament', api_key=os.getenv('API_KEY'))\n",
    "\n",
    "# Test data\n",
    "symbol = 'BTC'\n",
    "model_id = 'test_model_id'\n",
    "cur_time = int(time.time())*1000\n",
    "\n",
    "# Round down OPEN_TIME to round time (00:00 or 12:00 UTC), used for testing only\n",
    "backtest_example_data = [{\"OPEN_TIME\": cur_time - cur_time%(12*3600000) - 12*100*3600000, \"PREDICTION\": 0.487618394396533}]"
   ]
  },
  {
   "cell_type": "markdown",
   "metadata": {},
   "source": [
    "### Submission for back_test mode"
   ]
  },
  {
   "cell_type": "code",
   "execution_count": 6,
   "metadata": {},
   "outputs": [
    {
     "name": "stdout",
     "output_type": "stream",
     "text": [
      "Example submission - Submission time: 1703857293400\n"
     ]
    }
   ],
   "source": [
    "submission_time = s.submit(is_backtest=True, data=backtest_example_data, symbol=symbol, model_id=model_id)\n",
    "print(\"Example submission - Submission time:\", submission_time)"
   ]
  },
  {
   "cell_type": "markdown",
   "metadata": {},
   "source": [
    "### Get all submissions"
   ]
  },
  {
   "cell_type": "code",
   "execution_count": 7,
   "metadata": {},
   "outputs": [
    {
     "name": "stdout",
     "output_type": "stream",
     "text": [
      "All backtest submissions: {'back_test': {'BTC': {'test_input_7h_3_11': [1699633752935, 1699886805682], 'lgbm_model': [1700989856310, 1702432567687], 'test_model_id': [1703857293400]}, 'ETH': {}, 'BNB': {}, 'ORAI': {}}}\n"
     ]
    }
   ],
   "source": [
    "print(\"All backtest submissions:\", s.get_submission_times(is_backtest=True, symbol=symbol))"
   ]
  },
  {
   "cell_type": "code",
   "execution_count": 8,
   "metadata": {},
   "outputs": [],
   "source": [
    "# Waiting for results\n",
    "time.sleep(5)"
   ]
  },
  {
   "cell_type": "markdown",
   "metadata": {},
   "source": [
    "### Get results"
   ]
  },
  {
   "cell_type": "code",
   "execution_count": 9,
   "metadata": {},
   "outputs": [
    {
     "name": "stdout",
     "output_type": "stream",
     "text": [
      "Get result: {'back_test': {'BTC': {'test_model_id': {'1703857293400': {'Header': ['Round', 'Movement Score', 'CORR15', 'MS15', 'Prediction', 'Label'], 'Data': [[1699531200000.0, 1.0, 0.0, 0.0, 0.487618394396533, 0.5233716868809766]]}}}}}\n"
     ]
    }
   ],
   "source": [
    "print(\"Get result:\", s.get_result(is_backtest=True, symbol=symbol,\n",
    "      model_id=model_id, submission_time=submission_time))"
   ]
  },
  {
   "cell_type": "markdown",
   "metadata": {},
   "source": [
    "### Delete submission"
   ]
  },
  {
   "cell_type": "code",
   "execution_count": 10,
   "metadata": {},
   "outputs": [
    {
     "name": "stdout",
     "output_type": "stream",
     "text": [
      "Submission record is deleted successfully\n"
     ]
    }
   ],
   "source": [
    "res = s.delete_back_test_submission_times(symbol=symbol, model_id=model_id, submission_time=submission_time)\n",
    "print(res)"
   ]
  },
  {
   "cell_type": "markdown",
   "metadata": {},
   "source": [
    "### Get current round time"
   ]
  },
  {
   "cell_type": "code",
   "execution_count": 11,
   "metadata": {},
   "outputs": [
    {
     "data": {
      "text/plain": [
       "{'Round time': 1703851200000, 'Round number': 110}"
      ]
     },
     "execution_count": 11,
     "metadata": {},
     "output_type": "execute_result"
    }
   ],
   "source": [
    "s.get_current_round_time()"
   ]
  }
 ],
 "metadata": {
  "kernelspec": {
   "display_name": "Python 3",
   "language": "python",
   "name": "python3"
  },
  "language_info": {
   "codemirror_mode": {
    "name": "ipython",
    "version": 3
   },
   "file_extension": ".py",
   "mimetype": "text/x-python",
   "name": "python",
   "nbconvert_exporter": "python",
   "pygments_lexer": "ipython3",
   "version": "3.10.7"
  }
 },
 "nbformat": 4,
 "nbformat_minor": 2
}
